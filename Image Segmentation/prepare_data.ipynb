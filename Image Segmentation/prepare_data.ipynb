{
 "cells": [
  {
   "cell_type": "code",
   "execution_count": 1,
   "metadata": {},
   "outputs": [],
   "source": [
    "import numpy as np\n",
    "import PIL\n",
    "import matplotlib\n",
    "matplotlib.use('Agg')\n",
    "import matplotlib.pyplot as plt\n",
    "%matplotlib inline\n",
    "\n",
    "#import cv2\n",
    "import os\n",
    "import random"
   ]
  },
  {
   "cell_type": "code",
   "execution_count": 2,
   "metadata": {},
   "outputs": [
    {
     "data": {
      "text/plain": [
       "'\\n-data\\n    - img\\n    - label\\n    - label_zo\\n    - result\\n    - test\\n'"
      ]
     },
     "execution_count": 2,
     "metadata": {},
     "output_type": "execute_result"
    }
   ],
   "source": [
    "# Directory of the training data\n",
    "train_data_dir = '/home/sandhya-bairi/Desktop/AI Assignments/melanoma_tutorial/data'\n",
    "working_dir = '/home/sandhya-bairi/Desktop/AI Assignments/melanoma_tutorial'\n",
    "\"\"\"\n",
    "-data\n",
    "    - img\n",
    "    - label\n",
    "    - label_zo\n",
    "    - result\n",
    "    - test\n",
    "\"\"\"\n"
   ]
  },
  {
   "cell_type": "code",
   "execution_count": 3,
   "metadata": {},
   "outputs": [],
   "source": [
    "img_list = os.listdir(train_data_dir + '/label/')\n",
    "label_colors = [(0,0,0),(255,255,255)]"
   ]
  },
  {
   "cell_type": "code",
   "execution_count": 5,
   "metadata": {},
   "outputs": [
    {
     "name": "stdout",
     "output_type": "stream",
     "text": [
      "train_label_Image done\n"
     ]
    }
   ],
   "source": [
    "for in_idx, in_ in enumerate(img_list):\n",
    "    im = PIL.Image.open('%s/label/%s.jpg'%(train_data_dir,in_[:-4])).convert('RGB')\n",
    "    im = np.array(im)\n",
    "    # Convert to one channel binary image\n",
    "    tmp = np.uint8(np.zeros(im[:,:,0:1].shape))\n",
    "    for i in range(0,len(label_colors)):\n",
    "        tmp[:,:,0] = tmp[:,:,0] + i*np.prod(np.equal(im,label_colors[i]),2)\n",
    "    PIL.Image.fromarray(tmp[:,:,0]).save('%s/label_zo/%s.png'%(train_data_dir,in_[:-4]))\n",
    "print 'train_label_Image done'"
   ]
  },
  {
   "cell_type": "code",
   "execution_count": 6,
   "metadata": {},
   "outputs": [
    {
     "name": "stdout",
     "output_type": "stream",
     "text": [
      "#of training examples = 900\n"
     ]
    }
   ],
   "source": [
    "# Reading all training names into a list\n",
    "img_list = os.listdir(train_data_dir +'/label/')\n",
    "img_list = [x[:-4] for x in img_list]\n",
    "img_set = set(img_list)\n",
    "\n",
    "print(\"#of training examples = {0:d}\".format(len(img_set)))"
   ]
  },
  {
   "cell_type": "code",
   "execution_count": 7,
   "metadata": {},
   "outputs": [],
   "source": [
    "random.seed(2015)\n",
    "random.shuffle(img_list)"
   ]
  },
  {
   "cell_type": "code",
   "execution_count": 8,
   "metadata": {},
   "outputs": [],
   "source": [
    "# Divide the training data into: train (90%) and val (10%)\n",
    "val_list = img_list[:int(len(img_set)*.1)]"
   ]
  },
  {
   "cell_type": "code",
   "execution_count": 9,
   "metadata": {},
   "outputs": [
    {
     "name": "stdout",
     "output_type": "stream",
     "text": [
      "90\n"
     ]
    }
   ],
   "source": [
    "val_set = set(val_list)\n",
    "print(len(val_set))"
   ]
  },
  {
   "cell_type": "code",
   "execution_count": 10,
   "metadata": {},
   "outputs": [],
   "source": [
    "f = open(working_dir + '/data/txt/val_list.txt', 'w')\n",
    "f.write('\\n'.join(['label/'+i+'.jpg label_zo/'+i+'_Segmentation.png' for i in val_list]))\n",
    "f.close()"
   ]
  },
  {
   "cell_type": "code",
   "execution_count": 11,
   "metadata": {},
   "outputs": [
    {
     "name": "stdout",
     "output_type": "stream",
     "text": [
      "810\n"
     ]
    }
   ],
   "source": [
    "train_set = img_set - val_set\n",
    "train_list = list(train_set)\n",
    "train_list.sort()\n",
    "print len(train_list)"
   ]
  },
  {
   "cell_type": "code",
   "execution_count": 12,
   "metadata": {},
   "outputs": [],
   "source": [
    "f = open(working_dir + '/data/txt/train_list.txt', 'w')\n",
    "f.write('\\n'.join(['label/'+i+'.jpg label_zo/'+i+'_Segmentation.png' for i in train_list]))\n",
    "f.close()"
   ]
  },
  {
   "cell_type": "markdown",
   "metadata": {
    "collapsed": true
   },
   "source": [
    "#Compute mean\n",
    "#BGR mean of the training data"
   ]
  },
  {
   "cell_type": "code",
   "execution_count": 13,
   "metadata": {},
   "outputs": [],
   "source": [
    "## naive approach\n",
    "bgr_sum_mean = np.array([0., 0., 0.])\n",
    "for in_ in train_list:\n",
    "    img_orig_arr = np.array(PIL.Image.open('%s/label/%s.jpg'%(train_data_dir,in_)).convert('RGB'))\n",
    "    img_orig_arr = img_orig_arr[:, :, ::-1]\n",
    "    img_orig_arr = img_orig_arr.transpose((2, 0, 1))\n",
    "    bgr_sum_mean += img_orig_arr.reshape(3, img_orig_arr.shape[1] * img_orig_arr.shape[2]).mean(axis = 1)"
   ]
  },
  {
   "cell_type": "code",
   "execution_count": 14,
   "metadata": {},
   "outputs": [
    {
     "name": "stdout",
     "output_type": "stream",
     "text": [
      "BGR mean:  [145.12664488 158.30209981 184.94674935]\n"
     ]
    }
   ],
   "source": [
    "print 'BGR mean: ', bgr_sum_mean / (1. * len(train_list))"
   ]
  }
 ],
 "metadata": {
  "kernelspec": {
   "display_name": "Python 2",
   "language": "python",
   "name": "python2"
  },
  "language_info": {
   "codemirror_mode": {
    "name": "ipython",
    "version": 2
   },
   "file_extension": ".py",
   "mimetype": "text/x-python",
   "name": "python",
   "nbconvert_exporter": "python",
   "pygments_lexer": "ipython2",
   "version": "2.7.12"
  }
 },
 "nbformat": 4,
 "nbformat_minor": 1
}
